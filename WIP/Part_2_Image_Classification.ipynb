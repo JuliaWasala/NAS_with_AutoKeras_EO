{
 "cells": [
  {
   "cell_type": "markdown",
   "metadata": {},
   "source": [
    "<h1> AutoAI4EO: NAS with AutoKeras for Earth Observation (Part 2) <h1>"
   ]
  },
  {
   "cell_type": "markdown",
   "metadata": {},
   "source": [
    "<p>This is the second blog post in the series about our research on Neural Architecture Search (NAS) for Earth Observation (EO). In Part 1 < link > we introduced NAS and how it can be applied to EO. We talked about a NAS framework: AutoKeras [1], and briefly discussed how it can be customized for EO tasks. In this blog post, we are going to dive more in-depth into how AutoKeras can be used to create methods for EO imagery. More specifically, we are going to tackle the task of classification of EO imagery through the work “Automated Machine Learning for Satellite Data: Integrating Remote Sensing Pre-trained Models into AutoML Systems” by Nelly R. Palacios Salinas, Mitra Baratchi, Jan N. van Rijn and Andreas Vollrath [2].</p>"
   ]
  },
  {
   "cell_type": "markdown",
   "metadata": {},
   "source": [
    "<h2> Classification </h2>\n",
    "<p> Image classification is the task of assigning labels to an image. For instance, you’d like to know whether your image is showing a desert or a forest. Classification has, among others, applications in tasks like urban planning, hazard detection, and monitoring of the environment [3]. Sometimes in EO the term “image classification” is used to refer to what is called segmentation in computer science. This is the task of assigning labels to individual pixels. For instance, you want to know of each individual pixel whether it is part of a building or not. However, we will only talk about classification in the traditional sense, where you consider the complete image. </p>"
   ]
  },
  {
   "cell_type": "markdown",
   "metadata": {},
   "source": [
    "<h3> block 1 </h3>"
   ]
  },
  {
   "cell_type": "code",
   "execution_count": 1,
   "metadata": {},
   "outputs": [
    {
     "name": "stderr",
     "output_type": "stream",
     "text": [
      "2022-10-20 11:20:35.792193: I tensorflow/core/platform/cpu_feature_guard.cc:193] This TensorFlow binary is optimized with oneAPI Deep Neural Network Library (oneDNN) to use the following CPU instructions in performance-critical operations:  AVX2 AVX_VNNI FMA\n",
      "To enable them in other operations, rebuild TensorFlow with the appropriate compiler flags.\n",
      "2022-10-20 11:20:35.960307: I tensorflow/core/util/util.cc:169] oneDNN custom operations are on. You may see slightly different numerical results due to floating-point round-off errors from different computation orders. To turn them off, set the environment variable `TF_ENABLE_ONEDNN_OPTS=0`.\n",
      "2022-10-20 11:20:35.992225: E tensorflow/stream_executor/cuda/cuda_blas.cc:2981] Unable to register cuBLAS factory: Attempting to register factory for plugin cuBLAS when one has already been registered\n",
      "2022-10-20 11:20:36.473117: W tensorflow/stream_executor/platform/default/dso_loader.cc:64] Could not load dynamic library 'libnvinfer.so.7'; dlerror: libnvinfer.so.7: cannot open shared object file: No such file or directory\n",
      "2022-10-20 11:20:36.473236: W tensorflow/stream_executor/platform/default/dso_loader.cc:64] Could not load dynamic library 'libnvinfer_plugin.so.7'; dlerror: libnvinfer_plugin.so.7: cannot open shared object file: No such file or directory\n",
      "2022-10-20 11:20:36.473246: W tensorflow/compiler/tf2tensorrt/utils/py_utils.cc:38] TF-TRT Warning: Cannot dlopen some TensorRT libraries. If you would like to use Nvidia GPU with TensorRT, please make sure the missing libraries mentioned above are installed properly.\n"
     ]
    }
   ],
   "source": [
    "import autokeras as ak\n",
    "import os\n",
    "# os.environ['TF_CPP_MIN_LOG_LEVEL'] = '2'\n",
    "import tensorflow as tf"
   ]
  },
  {
   "cell_type": "code",
   "execution_count": 2,
   "metadata": {},
   "outputs": [
    {
     "name": "stdout",
     "output_type": "stream",
     "text": [
      "env: CUDA_VISIBLE_DEVICES=\"\"\n"
     ]
    }
   ],
   "source": [
    "%env CUDA_VISIBLE_DEVICES=\"\""
   ]
  },
  {
   "cell_type": "code",
   "execution_count": 3,
   "metadata": {},
   "outputs": [],
   "source": [
    "class HyperBlock(ak.Block):\n",
    "        \n",
    "    def build(self, hp, inputs):\n",
    "        inputs = tf.nest.flatten(inputs)[0]\n",
    "        \n",
    "        if hp.Choice(\"model_type\",[\"resnet\", \"xception\"]) == \"resnet\":\n",
    "            outputs = ak.ResNetBlock().build(hp,inputs)\n",
    "        else:\n",
    "            outputs=ak.XceptionBlock().build(hp,inputs)\n",
    "        return outputs"
   ]
  },
  {
   "cell_type": "markdown",
   "metadata": {},
   "source": [
    "<h3> block 2 </h3>"
   ]
  },
  {
   "cell_type": "code",
   "execution_count": 4,
   "metadata": {},
   "outputs": [],
   "source": [
    "from typing import Optional\n",
    "\n",
    "class HyperBlock(ak.Block):\n",
    "    def __init__(self, model_type: Optional[str] = None,**kwargs):\n",
    "        super().__init__(**kwargs)\n",
    "        \n",
    "        if model_type is not None and model_type != \"resnet\" and model_type != \"wdsr\":\n",
    "            raise Exception(f\"invalid model_type {model_type}\")\n",
    "\n",
    "        self.model_type=model_type\n",
    "\n",
    "    def get_config(self):\n",
    "        config = super().get_config()\n",
    "        config.update({\"model_type\": self.model_type})\n",
    "        return config\n",
    "\n",
    "    def _build_model(self,hp, output_node,model_type: str):\n",
    "        if model_type==\"resnet\":\n",
    "            return ak.ResNetBlock().build(hp,output_node)\n",
    "        elif model_type==\"xception\":\n",
    "            return ak.XceptionBlock().build(hp, output_node)\n",
    "\n",
    "    def build(self, hp, inputs):\n",
    "        inputs=tf.nest.flatten(inputs)[0]\n",
    "\n",
    "        # Let AutoKeras choose a model\n",
    "        if self.model_type is None:\n",
    "            model_type= hp.Choice(\"model_type\", [\"resnet\", \"xception\"])\n",
    "            with hp.conditional_scope(\"model_type\",[model_type]):\n",
    "                outputs = self._build_model(hp,inputs,model_type)\n",
    "        # Select model yourself\n",
    "        else:\n",
    "            outputs = self._build_model(hp,inputs,model_type)"
   ]
  },
  {
   "cell_type": "markdown",
   "metadata": {},
   "source": [
    "<h3> block 3 </h3>"
   ]
  },
  {
   "cell_type": "code",
   "execution_count": 5,
   "metadata": {},
   "outputs": [],
   "source": [
    "\n",
    "EO_VERSIONS= {\n",
    "    \"resisc45\": \"https://tfhub.dev/google/remote_sensing/resisc45-resnet50/1\",\n",
    "    \"eurosat\": \"https://tfhub.dev/google/remote_sensing/eurosat-resnet50/1\",\n",
    "    \"so2sat\": \"https://tfhub.dev/google/remote_sensing/so2sat-resnet50/1\",\n",
    "    \"ucmerced\": \"https://tfhub.dev/google/remote_sensing/uc_merced-resnet50/1\",\n",
    "}\n"
   ]
  },
  {
   "cell_type": "markdown",
   "metadata": {},
   "source": [
    "<h3> block 4 </h3>"
   ]
  },
  {
   "cell_type": "code",
   "execution_count": 6,
   "metadata": {},
   "outputs": [],
   "source": [
    "import tensorflow_hub as hub\n",
    "\n",
    "class EOResNetBlock(ak.Block):\n",
    "    #Remote sensing pretrained modules based on: https://github.com/palaciosnrps/automl-rs-project/blob/714bbe36c68fd0f2b989bfee89eac9497d7acf45/autokeras/blocks/basic.py\"\"\"\n",
    "    def __init__(\n",
    "         self, \n",
    "         version: Optional[str] = None,\n",
    "         **kwargs,\n",
    "         ):\n",
    "            super().__init__(**kwargs)\n",
    "\n",
    "            if version is not None and version not in EO_VERSIONS.keys() and set(version) <= set(EO_VERSIONS.keys()):\n",
    "                raise Exception(f\"invalid version {version}\")\n",
    "        \n",
    "            self.version=version\n",
    "\n",
    "    def get_config(self):\n",
    "        config = super().get_config()\n",
    "        config.update({\"version\": self.version})\n",
    "        return config\n",
    "\n",
    "    def build(self, hp, inputs=None):\n",
    "        # Get the input_node from inputs.\n",
    "\n",
    "        input_node = tf.nest.flatten(inputs)[0]\n",
    "\n",
    "        if self.version is None:\n",
    "            version= hp.Choice(\"version\", list(EO_VERSIONS.keys()))\n",
    "        elif isinstance(self.version,list):\n",
    "            version = self.version\n",
    "        else:\n",
    "            version = [self.version]\n",
    "            \n",
    "        module = hub.KerasLayer(EO_VERSIONS[version],tags='train',trainable=False)\n",
    "        min_size = 224\n",
    "        if input_node.shape[3] not in [1, 3]:\n",
    "            if self.pretrained:\n",
    "                raise ValueError(\n",
    "                    \"When pretrained is set to True, expect input to \"\n",
    "                    \"have 1 or 3 channels, bug got \"\n",
    "                    \"{channels}.\".format(channels=input_node.shape[3])\n",
    "                )\n",
    "\n",
    "        if input_node.shape[1] < min_size or input_node.shape[2] < min_size:\n",
    "            input_node = tf.keras.layers.experimental.preprocessing.Resizing(\n",
    "                max(min_size, input_node.shape[1]),\n",
    "                max(min_size, input_node.shape[2]),\n",
    "            )(input_node)\n",
    "        if input_node.shape[3] == 1:\n",
    "            input_node = tf.keras.layers.Concatenate()([input_node] * 3)\n",
    "        if input_node.shape[3] != 3:\n",
    "            input_node = tf.keras.layers.Conv2D(filters=3, kernel_size=1, padding=\"same\")(\n",
    "                input_node\n",
    "            )\t\n",
    "\n",
    "        output_node = module(input_node)\n",
    "        return output_node"
   ]
  },
  {
   "cell_type": "markdown",
   "metadata": {},
   "source": [
    "<h3> block 5 </h3>"
   ]
  },
  {
   "cell_type": "code",
   "execution_count": 7,
   "metadata": {},
   "outputs": [],
   "source": [
    "class HyperBlock(ak.Block):\n",
    "    def __init__(self, model_type: Optional[str] = None, version: Optional[str] = None,**kwargs):\n",
    "        super().__init__(**kwargs)\n",
    "        \n",
    "        if model_type is not None and model_type != \"resnet\" and model_type != \"wdsr\" and model_type != \"eo_resnet\":\n",
    "            raise Exception(f\"invalid model_type {model_type}\")\n",
    "\n",
    "        self.model_type=model_type\n",
    "        self.version = version\n",
    "\n",
    "    def get_config(self):\n",
    "        config = super().get_config()\n",
    "        config.update({\"model_type\": self.model_type})\n",
    "        return config\n",
    "\n",
    "    def _build_model(self,hp, output_node,model_type: str):\n",
    "        if model_type==\"resnet\":\n",
    "            return ak.ResNetBlock().build(hp,output_node)\n",
    "        elif model_type==\"xception\":\n",
    "            return ak.XceptionBlock().build(hp, output_node)\n",
    "        elif model_type==\"eo_resnet\":\n",
    "            return EOResNetBlock(version=self.version).build(hp,output_node)\n",
    "\n",
    "    def build(self, hp, inputs):\n",
    "        inputs=tf.nest.flatten(inputs)[0]\n",
    "\n",
    "        # Let AutoKeras choose a model\n",
    "        if self.model_type is None:\n",
    "            model_type= hp.Choice(\"model_type\", [\"resnet\", \"xception\", \"eo_resnet\"])\n",
    "            with hp.conditional_scope(\"model_type\",[model_type]):\n",
    "                outputs = self._build_model(hp,inputs,model_type)\n",
    "        # Select model yourself\n",
    "        else:\n",
    "            outputs = self._build_model(hp,inputs,self.model_type)\n",
    "        return outputs"
   ]
  },
  {
   "cell_type": "markdown",
   "metadata": {},
   "source": [
    "<h3> block 6 </h3>"
   ]
  },
  {
   "cell_type": "code",
   "execution_count": 8,
   "metadata": {},
   "outputs": [
    {
     "name": "stderr",
     "output_type": "stream",
     "text": [
      "2022-10-20 11:20:54.154242: E tensorflow/stream_executor/cuda/cuda_driver.cc:265] failed call to cuInit: CUDA_ERROR_NO_DEVICE: no CUDA-capable device is detected\n",
      "2022-10-20 11:20:54.154486: I tensorflow/stream_executor/cuda/cuda_diagnostics.cc:156] kernel driver does not appear to be running on this host (MSI): /proc/driver/nvidia/version does not exist\n",
      "2022-10-20 11:20:54.154839: I tensorflow/core/platform/cpu_feature_guard.cc:193] This TensorFlow binary is optimized with oneAPI Deep Neural Network Library (oneDNN) to use the following CPU instructions in performance-critical operations:  AVX2 AVX_VNNI FMA\n",
      "To enable them in other operations, rebuild TensorFlow with the appropriate compiler flags.\n"
     ]
    }
   ],
   "source": [
    "import tensorflow_datasets as tfds\n",
    "# load the dataset 317.MiB\n",
    "train_set=tfds.as_numpy(tfds.load(\"uc_merced\", download=False,as_supervised=False, batch_size=-1,split=\"train[:80%]\"))\n",
    "test_set=tfds.as_numpy(tfds.load(\"uc_merced\", download=False,as_supervised=False, batch_size=-1,split=\"train[80%:]\"))\n",
    "\n",
    "weights_versions = {k: v for k,v in EO_VERSIONS.items() if k != \"ucmerced\"}"
   ]
  },
  {
   "cell_type": "markdown",
   "metadata": {},
   "source": [
    "<h3> block 7 </h3>"
   ]
  },
  {
   "cell_type": "code",
   "execution_count": 9,
   "metadata": {},
   "outputs": [
    {
     "name": "stdout",
     "output_type": "stream",
     "text": [
      "Trial 1 Complete [00h 09m 02s]\n",
      "val_loss: 0.10346080362796783\n",
      "\n",
      "Best val_loss So Far: 0.10346080362796783\n",
      "Total elapsed time: 00h 09m 02s\n",
      "INFO:tensorflow:Oracle triggered exit\n"
     ]
    },
    {
     "name": "stderr",
     "output_type": "stream",
     "text": [
      "INFO:tensorflow:Oracle triggered exit\n"
     ]
    },
    {
     "name": "stdout",
     "output_type": "stream",
     "text": [
      "Epoch 1/10\n",
      "53/53 [==============================] - 56s 1s/step - loss: 1.3413 - accuracy: 0.6095\n",
      "Epoch 2/10\n",
      "53/53 [==============================] - 56s 1s/step - loss: 0.3001 - accuracy: 0.9220\n",
      "Epoch 3/10\n",
      "53/53 [==============================] - 56s 1s/step - loss: 0.1813 - accuracy: 0.9512\n",
      "Epoch 4/10\n",
      "53/53 [==============================] - 56s 1s/step - loss: 0.1443 - accuracy: 0.9625\n",
      "Epoch 5/10\n",
      "53/53 [==============================] - 57s 1s/step - loss: 0.1013 - accuracy: 0.9744\n",
      "Epoch 6/10\n",
      "53/53 [==============================] - 56s 1s/step - loss: 0.0966 - accuracy: 0.9744\n",
      "Epoch 7/10\n",
      "53/53 [==============================] - 54s 1s/step - loss: 0.0729 - accuracy: 0.9839\n",
      "Epoch 8/10\n",
      "53/53 [==============================] - 55s 1s/step - loss: 0.0666 - accuracy: 0.9810\n",
      "Epoch 9/10\n",
      "53/53 [==============================] - 54s 1s/step - loss: 0.0494 - accuracy: 0.9905\n",
      "Epoch 10/10\n",
      "53/53 [==============================] - 56s 1s/step - loss: 0.0438 - accuracy: 0.9929\n",
      "INFO:tensorflow:Assets written to: ./auto_model/best_model/assets\n"
     ]
    },
    {
     "name": "stderr",
     "output_type": "stream",
     "text": [
      "INFO:tensorflow:Assets written to: ./auto_model/best_model/assets\n"
     ]
    },
    {
     "data": {
      "text/plain": [
       "<keras.callbacks.History at 0x7efda81fbb50>"
      ]
     },
     "execution_count": 9,
     "metadata": {},
     "output_type": "execute_result"
    }
   ],
   "source": [
    "# tf.enable_eager_execution()\n",
    "input_node = ak.ImageInput()\n",
    "output_node = HyperBlock(model_type=\"eo_resnet\")(input_node)\n",
    "output_node = ak.ClassificationHead()(output_node)\n",
    "eo_nas_model = ak.AutoModel(input_node, output_node, max_trials=1,overwrite=True)\n",
    "\n",
    "eo_nas_model.fit(x=train_set[\"image\"], y=train_set[\"label\"], epochs=10)"
   ]
  }
 ],
 "metadata": {
  "kernelspec": {
   "display_name": "Python 3.9.13 ('nas_eo_env')",
   "language": "python",
   "name": "python3"
  },
  "language_info": {
   "codemirror_mode": {
    "name": "ipython",
    "version": 3
   },
   "file_extension": ".py",
   "mimetype": "text/x-python",
   "name": "python",
   "nbconvert_exporter": "python",
   "pygments_lexer": "ipython3",
   "version": "3.9.13"
  },
  "orig_nbformat": 4,
  "vscode": {
   "interpreter": {
    "hash": "69ad1f6cd1e8c1c2d666d562a66548bc77232a3689fef123300c258562163eb8"
   }
  }
 },
 "nbformat": 4,
 "nbformat_minor": 2
}
