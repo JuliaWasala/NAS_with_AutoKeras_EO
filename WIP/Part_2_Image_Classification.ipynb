{
 "cells": [
  {
   "cell_type": "markdown",
   "metadata": {},
   "source": [
    "<h1> AutoAI4EO: NAS with AutoKeras for Earth Observation (Part 2) <h1>"
   ]
  },
  {
   "cell_type": "markdown",
   "metadata": {},
   "source": [
    "<p>This is the second blog post in the series about our research on Neural Architecture Search (NAS) for Earth Observation (EO). In Part 1 < link > we introduced NAS and how it can be applied to EO. We talked about a NAS framework: AutoKeras [1], and briefly discussed how it can be customized for EO tasks. In this blog post, we are going to dive more in-depth into how AutoKeras can be used to create methods for EO imagery. More specifically, we are going to tackle the task of classification of EO imagery through the work “Automated Machine Learning for Satellite Data: Integrating Remote Sensing Pre-trained Models into AutoML Systems” by Nelly R. Palacios Salinas, Mitra Baratchi, Jan N. van Rijn and Andreas Vollrath [2].</p>"
   ]
  },
  {
   "cell_type": "markdown",
   "metadata": {},
   "source": [
    "<h2> Classification </h2>\n",
    "<p> Image classification is the task of assigning labels to an image. For instance, you’d like to know whether your image is showing a desert or a forest. Classification has, among others, applications in tasks like urban planning, hazard detection, and monitoring of the environment [3]. Sometimes in EO the term “image classification” is used to refer to what is called segmentation in computer science. This is the task of assigning labels to individual pixels. For instance, you want to know of each individual pixel whether it is part of a building or not. However, we will only talk about classification in the traditional sense, where you consider the complete image. </p>"
   ]
  },
  {
   "cell_type": "code",
   "execution_count": 3,
   "metadata": {},
   "outputs": [],
   "source": [
    "import autokeras as ak\n",
    "import tensorflow as tf"
   ]
  },
  {
   "cell_type": "code",
   "execution_count": 4,
   "metadata": {},
   "outputs": [],
   "source": [
    "class HyperBlock(ak.Block):\n",
    "        \n",
    "    def build(self, hp, inputs):\n",
    "        inputs = tf.nest.flatten(inputs)[0]\n",
    "        \n",
    "        if hp.Choice(\"model_type\",[\"resnet\", \"xception\"]) == \"resnet\":\n",
    "            outputs = ak.ResNetBlock().build(hp,inputs)\n",
    "        else:\n",
    "            outputs=ak.XceptionBlock().build(hp,inputs)\n",
    "        return outputs"
   ]
  },
  {
   "cell_type": "code",
   "execution_count": 8,
   "metadata": {},
   "outputs": [],
   "source": [
    "from typing import Optional\n",
    "\n",
    "class HyperBlock(ak.Block):\n",
    "    def __init__(self, model_type: Optional[str] = None):\n",
    "        super().__init__(**kwargs)\n",
    "        \n",
    "        if model_type is not None and model_type != \"resnet\" and model_type != \"wdsr\":\n",
    "            raise Exception(f\"invalid model_type {model_type}\")\n",
    "\n",
    "        self.model_type=model_type\n",
    "\n",
    "    def get_config(self):\n",
    "        config = super().get_config()\n",
    "        config.update({\"model_type\": self.model_type})\n",
    "        return config\n",
    "\n",
    "    def _build_model(self,hp, output_node,model_type: str):\n",
    "        if model_type==\"resnet\":\n",
    "            return ak.ResNetBlock().build(hp,output_node)\n",
    "        elif model_type==\"xception\":\n",
    "            return ak.XceptionBlock().build(hp, output_node)\n",
    "\n",
    "    def build(self, hp, inputs):\n",
    "        inputs=tf.nest.flatten(inputs)[0]\n",
    "\n",
    "        # Let AutoKeras choose a model\n",
    "        if self.model_type is None:\n",
    "            model_type= hp.Choice(\"model_type\", [\"resnet\", \"xception\"])\n",
    "            with hp.conditional_scope(\"model_type\",[model_type]):\n",
    "                outputs = self._build_model(hp,inputs,model_type)\n",
    "        # Select model yourself\n",
    "        else:\n",
    "            outputs = self._build_model(hp,inputs,model_type)"
   ]
  },
  {
   "cell_type": "code",
   "execution_count": 12,
   "metadata": {},
   "outputs": [],
   "source": [
    "\n",
    "EO_VERSIONS= {\n",
    "    \"resisc45\": \"https://tfhub.dev/google/remote_sensing/resisc45-resnet50/1\",\n",
    "    \"eurosat\": \"https://tfhub.dev/google/remote_sensing/eurosat-resnet50/1\",\n",
    "    \"so2sat\": \"https://tfhub.dev/google/remote_sensing/so2sat-resnet50/1\",\n",
    "    \"ucmerced\": \"https://tfhub.dev/google/remote_sensing/uc_merced-resnet50/1\",\n",
    "}\n"
   ]
  },
  {
   "cell_type": "code",
   "execution_count": 11,
   "metadata": {},
   "outputs": [],
   "source": [
    "import tensorflow_hub as hub\n",
    "\n",
    "class EOResNetBlock(ak.Block):\n",
    "    #Remote sensing pretrained modules based on: https://github.com/palaciosnrps/automl-rs-project/blob/714bbe36c68fd0f2b989bfee89eac9497d7acf45/autokeras/blocks/basic.py\"\"\"\n",
    "    def __init__(\n",
    "         self, \n",
    "         version: Optional[str] = None,\n",
    "         **kwargs,\n",
    "         ):\n",
    "            super().__init__(**kwargs)\n",
    "\n",
    "            if version is not None and version not in EO_VERSIONS.keys():\n",
    "                raise Exception(f\"invalid version {version}\")\n",
    "        \n",
    "            self.version=version\n",
    "\n",
    "    def get_config(self):\n",
    "        config = super().get_config()\n",
    "        config.update({\"version\": self.version})\n",
    "        return config\n",
    "\n",
    "    def build(self, hp, inputs=None):\n",
    "        # Get the input_node from inputs.\n",
    "\n",
    "        input_node = tf.nest.flatten(inputs)[0]\n",
    "\n",
    "        if self.version is None:\n",
    "            version= hp.Choice(\"version\", list(EO_VERSIONS.keys()))\n",
    "        else:\n",
    "            version = self.version\n",
    "            \n",
    "        module = hub.KerasLayer(EO_VERSIONS[version],tags='train',trainable=False)\n",
    "        min_size = 224\n",
    "        if input_node.shape[3] not in [1, 3]:\n",
    "            if self.pretrained:\n",
    "                raise ValueError(\n",
    "                    \"When pretrained is set to True, expect input to \"\n",
    "                    \"have 1 or 3 channels, bug got \"\n",
    "                    \"{channels}.\".format(channels=input_node.shape[3])\n",
    "                )\n",
    "\n",
    "        if input_node.shape[1] < min_size or input_node.shape[2] < min_size:\n",
    "            input_node = tf.keras.layers.experimental.preprocessing.Resizing(\n",
    "                max(min_size, input_node.shape[1]),\n",
    "                max(min_size, input_node.shape[2]),\n",
    "            )(input_node)\n",
    "        if input_node.shape[3] == 1:\n",
    "            input_node = tf.keras.layers.Concatenate()([input_node] * 3)\n",
    "        if input_node.shape[3] != 3:\n",
    "            input_node = tf.keras.layers.Conv2D(filters=3, kernel_size=1, padding=\"same\")(\n",
    "                input_node\n",
    "            )\t\n",
    "\n",
    "        output_node = module(input_node)\n",
    "        return output_node"
   ]
  },
  {
   "cell_type": "code",
   "execution_count": null,
   "metadata": {},
   "outputs": [],
   "source": [
    "from typing import Optional\n",
    "\n",
    "class HyperBlock(ak.Block):\n",
    "    def __init__(self, model_type: Optional[str] = None):\n",
    "        super().__init__(**kwargs)\n",
    "        \n",
    "        if model_type is not None and model_type != \"resnet\" and model_type != \"wdsr\" and model_type != \"eo_resnet\":\n",
    "            raise Exception(f\"invalid model_type {model_type}\")\n",
    "\n",
    "        self.model_type=model_type\n",
    "\n",
    "    def get_config(self):\n",
    "        config = super().get_config()\n",
    "        config.update({\"model_type\": self.model_type})\n",
    "        return config\n",
    "\n",
    "    def _build_model(self,hp, output_node,model_type: str):\n",
    "        if model_type==\"resnet\":\n",
    "            return ak.ResNetBlock().build(hp,output_node)\n",
    "        elif model_type==\"xception\":\n",
    "            return ak.XceptionBlock().build(hp, output_node)\n",
    "        elif model_type==\"eo_resnet\":\n",
    "            return EOResNetBlock().build(hp,output_node)\n",
    "\n",
    "    def build(self, hp, inputs):\n",
    "        inputs=tf.nest.flatten(inputs)[0]\n",
    "\n",
    "        # Let AutoKeras choose a model\n",
    "        if self.model_type is None:\n",
    "            model_type= hp.Choice(\"model_type\", [\"resnet\", \"xception\"])\n",
    "            with hp.conditional_scope(\"model_type\",[model_type]):\n",
    "                outputs = self._build_model(hp,inputs,model_type)\n",
    "        # Select model yourself\n",
    "        else:\n",
    "            outputs = self._build_model(hp,inputs,model_type)"
   ]
  }
 ],
 "metadata": {
  "kernelspec": {
   "display_name": "nas_eo_env",
   "language": "python",
   "name": "nas_eo_env"
  },
  "language_info": {
   "codemirror_mode": {
    "name": "ipython",
    "version": 3
   },
   "file_extension": ".py",
   "mimetype": "text/x-python",
   "name": "python",
   "nbconvert_exporter": "python",
   "pygments_lexer": "ipython3",
   "version": "3.9.12"
  },
  "orig_nbformat": 4,
  "vscode": {
   "interpreter": {
    "hash": "916dbcbb3f70747c44a77c7bcd40155683ae19c65e1c03b4aa3499c5328201f1"
   }
  }
 },
 "nbformat": 4,
 "nbformat_minor": 2
}
